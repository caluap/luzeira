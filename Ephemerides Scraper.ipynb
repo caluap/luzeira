{
 "cells": [
  {
   "cell_type": "markdown",
   "metadata": {},
   "source": [
    "# Ephemerides scraper"
   ]
  },
  {
   "cell_type": "markdown",
   "metadata": {},
   "source": [
    "## 1: list of links to each year"
   ]
  },
  {
   "cell_type": "code",
   "execution_count": 15,
   "metadata": {
    "collapsed": true
   },
   "outputs": [],
   "source": [
    "# based on https://github.com/justmarkham/trump-lies/blob/master/trump_lies.ipynb\n",
    "\n",
    "import requests\n",
    "r = requests.get('https://www.findyourfate.com/astrology/ephemeris/ephemeris.html')"
   ]
  },
  {
   "cell_type": "code",
   "execution_count": 17,
   "metadata": {
    "collapsed": true
   },
   "outputs": [],
   "source": [
    "from bs4 import BeautifulSoup\n",
    "\n",
    "soup = BeautifulSoup(r.text, 'html.parser')"
   ]
  },
  {
   "cell_type": "code",
   "execution_count": 24,
   "metadata": {
    "collapsed": true
   },
   "outputs": [],
   "source": [
    "cells = soup.find_all('div', attrs={'class':'Cell'})"
   ]
  },
  {
   "cell_type": "code",
   "execution_count": 25,
   "metadata": {},
   "outputs": [
    {
     "data": {
      "text/plain": [
       "<div class=\"Cell\" style=\"padding-left:5px; padding-right:5px; padding-top:5px; padding-bottom:5px;\">\n",
       "<a href=\"https://www.findyourfate.com/astrology/ephemeris/1900.html\">Ephemeris for year 1900</a></div>"
      ]
     },
     "execution_count": 25,
     "metadata": {},
     "output_type": "execute_result"
    }
   ],
   "source": [
    "cells[0]"
   ]
  },
  {
   "cell_type": "code",
   "execution_count": 31,
   "metadata": {
    "collapsed": true
   },
   "outputs": [],
   "source": [
    "links = []\n",
    "for cell in cells:\n",
    "  year = cell.find('a').text[-4:]\n",
    "  href = cell.find('a')['href']\n",
    "  links.append((year, href))"
   ]
  },
  {
   "cell_type": "markdown",
   "metadata": {},
   "source": [
    "## 2: angles for each year"
   ]
  },
  {
   "cell_type": "code",
   "execution_count": 118,
   "metadata": {},
   "outputs": [
    {
     "name": "stdout",
     "output_type": "stream",
     "text": [
      "Starting 2100...\n"
     ]
    }
   ],
   "source": [
    "import json\n",
    "\n",
    "cut_off = 2100\n",
    "\n",
    "ephemerides = {}\n",
    "\n",
    "for link in links:\n",
    "  href = link[1]\n",
    "  year = link[0]\n",
    "  \n",
    "  if int(year) < cut_off:\n",
    "    continue\n",
    "  \n",
    "  r = requests.get(href)\n",
    "  soup = BeautifulSoup(r.text, 'html.parser')\n",
    "  months = soup.find_all('pre')\n",
    "  \n",
    "  ephemerides[year] = {}\n",
    "  \n",
    "  print(f\"Starting {year}...\")\n",
    "\n",
    "  for i, month in enumerate(months):\n",
    "    i_month = str(i+1).zfill(2)\n",
    "    \n",
    "    \n",
    "#     print(f\"Starting month: {i_month}...\")\n",
    "\n",
    "    ephemerides[year][i_month] = {}\n",
    "    \n",
    "    aux = month.find_all('b')\n",
    "    \n",
    "    # the first <b> is the header with the planets, which we don't need.\n",
    "    # [::2] comes from https://stackoverflow.com/questions/28883769/remove-odd-indexed-elements-from-list-in-python\n",
    "    # and is as follows: a[start:end:step] --> start through not past end, by step\n",
    "    days = aux[len(aux)-1].text.splitlines()[::2]\n",
    "    \n",
    "    for day in days:\n",
    "      aux = day.strip().split(' ')\n",
    "      \n",
    "      # print(f\"...has {len(aux)} element(s)\")\n",
    "      if len(aux) >= 14:\n",
    "        # DATE  SID.TIME  SUN   MOON   MERCURY  VENUS  MARS JUPITER SATURN URANUS NEPTUNE PLUTO  NODE\n",
    "        data = {\n",
    "          'time': aux[2],\n",
    "          'sun': aux[3],\n",
    "          'moon': aux[4],\n",
    "          'mercury': aux[5],\n",
    "          'venus': aux[6],\n",
    "          'mars': aux[7],\n",
    "          'jupiter': aux[8],\n",
    "          'saturn': aux[9],\n",
    "          'uranus': aux[10],\n",
    "          'neptune': aux[11],\n",
    "          'pluto': aux[12],\n",
    "          'node': aux[13]\n",
    "        }\n",
    "        ephemerides[year][i_month][aux[1]] = data\n",
    "        \n",
    "  fn = 'raw_data/' + year + '.json'\n",
    "  with open(fn, 'w') as fp:\n",
    "    json.dump(ephemerides[year], fp, sort_keys=True, indent=2)\n",
    "    "
   ]
  }
 ],
 "metadata": {
  "kernelspec": {
   "display_name": "Python 3",
   "language": "python",
   "name": "python3"
  },
  "language_info": {
   "codemirror_mode": {
    "name": "ipython",
    "version": 3
   },
   "file_extension": ".py",
   "mimetype": "text/x-python",
   "name": "python",
   "nbconvert_exporter": "python",
   "pygments_lexer": "ipython3",
   "version": "3.6.2"
  }
 },
 "nbformat": 4,
 "nbformat_minor": 2
}
